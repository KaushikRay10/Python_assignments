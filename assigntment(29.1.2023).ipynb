{
 "cells": [
  {
   "cell_type": "code",
   "execution_count": null,
   "id": "2a2650c8-3f72-4aad-8e8c-a9902940bd96",
   "metadata": {},
   "outputs": [],
   "source": [
    "                                                   Assignment 1 [29 jan 2023]\n",
    "Question 1. Who developed python programming language?\n",
    "Ans: Guido van Rossum."
   ]
  },
  {
   "cell_type": "code",
   "execution_count": null,
   "id": "81e784ae-0fa2-451c-a8e1-06dfcd53c088",
   "metadata": {},
   "outputs": [],
   "source": [
    "Question 2. Which type of programming does python support?\n",
    "Ans: Python is a multi-paradigm programming language.\n",
    "Object-oriented programming and structured programming are fully supported,\n",
    "and many of their features support functional programming and aspect-oriented programming."
   ]
  },
  {
   "cell_type": "code",
   "execution_count": null,
   "id": "29fee9fb-67e6-425d-91fb-016437ef2821",
   "metadata": {},
   "outputs": [],
   "source": [
    "Question 3. Is python case sensitive when dealing with identifiers?\n",
    "Ans: Case is always significant while dealing with identifiers in python."
   ]
  },
  {
   "cell_type": "code",
   "execution_count": null,
   "id": "b9348b2a-2bf3-4953-8f15-4622179814b7",
   "metadata": {},
   "outputs": [],
   "source": [
    "Question 4. What is the correct extension of the python file?\n",
    "Ans: .py is the correct extension of the python file."
   ]
  },
  {
   "cell_type": "code",
   "execution_count": null,
   "id": "1eb52f58-6ae1-4ba1-8236-dc45de9bdfef",
   "metadata": {},
   "outputs": [],
   "source": [
    "Question 5. Is python code compiled or interpreted?\n",
    "Ans: Python code is both compiled and interpreted."
   ]
  },
  {
   "cell_type": "code",
   "execution_count": null,
   "id": "1390f497-c750-4de2-95ec-50c1844e688d",
   "metadata": {},
   "outputs": [],
   "source": [
    "Question 6.Name of the few blocks of code used to define in python language?\n",
    "Ans: In python,to define a block of code we use indentation.indentation refers to whitespaces at the beginning of the line."
   ]
  },
  {
   "cell_type": "code",
   "execution_count": null,
   "id": "b26de1f6-a75f-4e5c-96d5-d2696b735426",
   "metadata": {},
   "outputs": [],
   "source": [
    "Question 7. State a character used to give single-line comments in python?\n",
    "Ans: We can write a single-line comment by adding a single # character before any statement or line of code."
   ]
  },
  {
   "cell_type": "code",
   "execution_count": null,
   "id": "33a22e43-1954-4708-ba37-375a9d56afbb",
   "metadata": {},
   "outputs": [],
   "source": [
    "Question 8. Mention functions which can help us to find the version of python that we are currently working on?\n",
    "Ans: The function sys.version can help us to find the version of python that we are currently working on."
   ]
  },
  {
   "cell_type": "code",
   "execution_count": null,
   "id": "91d11a92-306c-477e-ab67-ef24f148b23c",
   "metadata": {},
   "outputs": [],
   "source": [
    "Question 9. Python supports the cration of anonymous functions at runtime,using a construct called...............\n",
    "Ans: \"LAMBDA\""
   ]
  },
  {
   "cell_type": "code",
   "execution_count": null,
   "id": "76d72f0d-56d2-476e-86fc-e40c53cbb60f",
   "metadata": {},
   "outputs": [],
   "source": [
    "Question 10. What does pip stand for python?\n",
    "Ans: Pip stands for \"preferred installation program\"."
   ]
  },
  {
   "cell_type": "code",
   "execution_count": null,
   "id": "44bdc3c0-5a8e-4d35-9b99-d8889f157412",
   "metadata": {},
   "outputs": [],
   "source": [
    "Question 11. Mention of few built-in functions in python?\n",
    "Ans: print() function\n",
    "type() function\n",
    "input() function\n",
    "dir() function."
   ]
  },
  {
   "cell_type": "code",
   "execution_count": null,
   "id": "5e1d4564-f2c0-4d90-b501-b37c5e5a08d0",
   "metadata": {},
   "outputs": [],
   "source": [
    "Question 12. What is the maximum possible length of an identifier in python?\n",
    "Ans: An identifier can have a maximum length of 79 characters in python."
   ]
  },
  {
   "cell_type": "code",
   "execution_count": null,
   "id": "4db7795b-de17-4f23-ab1d-432e10a8816c",
   "metadata": {},
   "outputs": [],
   "source": [
    "Question 13. What are the benefits using python?\n",
    "Ans: The python language is full of benefits and advantages.Some good reasons why choose python over other languages and why you are going to love\n",
    "python.Python is a language embraced by a large community of coders for its many advantages features.Many business choose python as the main\n",
    "programming language.\n",
    "\n",
    " _________________________________________________\n",
    "|Some of the sectors where mejorly used python    |\n",
    "|_________________________________________________|\n",
    "\n",
    "Data science\n",
    "Scientific and Mathematical computing\n",
    "Web devolopment\n",
    "Finance and Trading\n",
    "etc..."
   ]
  },
  {
   "cell_type": "code",
   "execution_count": null,
   "id": "8761587f-f6a6-4bdb-a17d-6d7935cd4392",
   "metadata": {},
   "outputs": [],
   "source": [
    "Question 14. How is the memory managed in python?\n",
    "Ans: Memory management in python involves a private heap containing all python objects and data structures.\n",
    "The management of this private heap is ensured internally by the python memory manager."
   ]
  },
  {
   "cell_type": "code",
   "execution_count": null,
   "id": "8cbed04b-1d73-4de8-8dc1-f0047b50480f",
   "metadata": {},
   "outputs": [],
   "source": [
    "Question 15. How to install python on windows and set path variables?\n",
    "Ans: Install python from this link https://www.python.org/downloads/\n",
    "After this, install it on your PC. Look for the location where PYTHON has been installed on your PC using tge\n",
    "following command on your command prompt: cmd python.\n",
    "Then go to advanced system settings and add new variable and name it as PYTHON_NAME and paste the copied path.\n",
    "Then look for the path variable, select it's value and select edit\n",
    "Add a semicolon towards the end of the value if it's not present and then type %PYTHON_HOME%\n",
    "\n",
    "Start your journey................"
   ]
  },
  {
   "cell_type": "code",
   "execution_count": null,
   "id": "da0054ae-e044-43d2-8423-bee547b94c70",
   "metadata": {},
   "outputs": [],
   "source": [
    "Question 16. Is indentation required in python?\n",
    "Ans: The indentation in python is very inportent.Python uses indentation to indicate a block of code."
   ]
  }
 ],
 "metadata": {
  "kernelspec": {
   "display_name": "Python 3 (ipykernel)",
   "language": "python",
   "name": "python3"
  },
  "language_info": {
   "codemirror_mode": {
    "name": "ipython",
    "version": 3
   },
   "file_extension": ".py",
   "mimetype": "text/x-python",
   "name": "python",
   "nbconvert_exporter": "python",
   "pygments_lexer": "ipython3",
   "version": "3.10.8"
  }
 },
 "nbformat": 4,
 "nbformat_minor": 5
}

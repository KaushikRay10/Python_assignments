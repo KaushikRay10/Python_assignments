{
 "cells": [
  {
   "cell_type": "code",
   "execution_count": 1,
   "id": "620a7828-dd71-4202-9419-6c3a9de7717b",
   "metadata": {},
   "outputs": [
    {
     "name": "stdin",
     "output_type": "stream",
     "text": [
      "enter the mark:  62\n"
     ]
    },
    {
     "name": "stdout",
     "output_type": "stream",
     "text": [
      "grade:C\n"
     ]
    }
   ],
   "source": [
    "#1.write a program to accept percentage from the user and display the grade according to the following criteria:\n",
    "#marks            grade\n",
    "#>90               A\n",
    "#>80 and <=90      B\n",
    "#>=60 and <=80     C\n",
    "#below 60          D\n",
    "\n",
    "percentage=int(input('enter the mark: '))\n",
    "if(percentage>90):\n",
    "    print('grade:A')\n",
    "elif(percentage>80 and percentage<=90):\n",
    "    print('grade:B')\n",
    "elif(percentage>=60 and percentage<=80):\n",
    "    print('grade:C')\n",
    "else:\n",
    "    print('grade:D')"
   ]
  },
  {
   "cell_type": "code",
   "execution_count": 35,
   "id": "e40f2307-80ab-4aba-b5b3-3400abe7c262",
   "metadata": {},
   "outputs": [
    {
     "name": "stdin",
     "output_type": "stream",
     "text": [
      "enter the cost price of the bike:  66000\n"
     ]
    },
    {
     "name": "stdout",
     "output_type": "stream",
     "text": [
      "6600.0 is the road tax to be paid.\n"
     ]
    }
   ],
   "source": [
    "#2.write a program to accept the cost price of a bike and display that road tax to ba paid according to the following criteria:\n",
    "#tax       cost price(in rs)\n",
    "#15%       >100000\n",
    "#10%       >50000 and <= 100000\n",
    "#5%        <= 50000\n",
    "\n",
    "tax=0\n",
    "costprice=int(input('enter the cost price of the bike: '))\n",
    "if costprice>100000:\n",
    "    tax=15/100*costprice\n",
    "elif costprice>50000 and costprice<=100000:\n",
    "    tax=10/100*costprice\n",
    "else:\n",
    "    tax=5/100*costprice\n",
    "print(tax,'is the road tax to be paid.')"
   ]
  },
  {
   "cell_type": "code",
   "execution_count": 48,
   "id": "e1404ad9-a28a-443c-9fc1-15fd31d6a2d9",
   "metadata": {},
   "outputs": [
    {
     "name": "stdin",
     "output_type": "stream",
     "text": [
      "enter a city delhi\n"
     ]
    },
    {
     "name": "stdout",
     "output_type": "stream",
     "text": [
      "red fort\n"
     ]
    }
   ],
   "source": [
    "#3.Accept any city from user and display monuments of that city.\n",
    "\n",
    "city=(input('enter a city'))\n",
    "if city.lower()=='delhi':\n",
    "    print('red fort')\n",
    "elif city.lower()=='agra':\n",
    "    print('taj mahal')\n",
    "elif city.lower()=='jaipur':\n",
    "    print('jal mahal')\n",
    "else:\n",
    "    print('enter a valid city')   "
   ]
  },
  {
   "cell_type": "code",
   "execution_count": 60,
   "id": "88ce656b-e4e7-4327-a2ca-f64951501ea9",
   "metadata": {},
   "outputs": [
    {
     "name": "stdout",
     "output_type": "stream",
     "text": [
      "0\n"
     ]
    }
   ],
   "source": [
    "#4.Check how many times a given number can be divided by 3 before it is less than or equal to 10.\n",
    "\n",
    "def divided_by_3(n):\n",
    "    count=0\n",
    "    while n >10:\n",
    "        n=n/3\n",
    "        count+=1\n",
    "    return count\n",
    "print(divided_by_3(10))"
   ]
  },
  {
   "cell_type": "code",
   "execution_count": 73,
   "id": "bbf7c86d-549a-4276-8c70-070042b24f79",
   "metadata": {},
   "outputs": [
    {
     "name": "stdout",
     "output_type": "stream",
     "text": [
      "1\n",
      "2\n",
      "3\n",
      "4\n",
      "5\n",
      "6\n",
      "7\n",
      "8\n",
      "9\n",
      "10\n"
     ]
    }
   ],
   "source": [
    "#5.why and when to use while loop in python give a detailed description whit example\n",
    "\n",
    "#Ans:Python while loop is used to run a block code until a certain condition is met. Here, A while loop evaluates the condition. If the condition evaluates to True,\n",
    "#the code inside the while loop is executed.\n",
    "\n",
    "#Example: \n",
    "i = 1   \n",
    "while i <= 10:\n",
    "    print(i)\n",
    "    i = i + 1"
   ]
  },
  {
   "cell_type": "code",
   "execution_count": null,
   "id": "66825a84-896c-4284-9950-0aa406792a78",
   "metadata": {},
   "outputs": [],
   "source": [
    "#6.Use nested while loop to print 3 different pattern.\n",
    "\n",
    "#Triangle pattern\n",
    "i=1\n",
    "while i<=5:\n",
    "    j=1\n",
    "    while j<=i:\n",
    "        print('*',end=' ')\n",
    "        j=j+1\n",
    "        print()\n",
    "        i=i+1\n",
    "        \n",
    "#Reverse triangle pattern        \n",
    "i=5\n",
    "while i>=1:\n",
    "    j=1\n",
    "    while j<=i:\n",
    "        print('*',end=' ')\n",
    "        j=j+1\n",
    "        print()\n",
    "        i=i+1 \n",
    "        \n",
    "#Pyramid pattern        \n",
    "i=1\n",
    "while i<=5:\n",
    "    j=1\n",
    "    while j<=i:\n",
    "        print('*',end=' ')\n",
    "        j=j+1\n",
    "        print()\n",
    "        i=i+1        "
   ]
  },
  {
   "cell_type": "code",
   "execution_count": null,
   "id": "f3535e87-b09a-4844-b8d0-8720ef62e79d",
   "metadata": {},
   "outputs": [],
   "source": [
    "#7.Reverse a while loop to display numbers from 10 to 1.\n",
    "\n",
    "i=10\n",
    "while i >= 1:\n",
    "    print(i)\n",
    "    i=i-1"
   ]
  },
  {
   "cell_type": "code",
   "execution_count": null,
   "id": "4d8f2fcc-10af-4a8c-b020-1fc7466be987",
   "metadata": {},
   "outputs": [],
   "source": []
  },
  {
   "cell_type": "code",
   "execution_count": null,
   "id": "f1aabbf8-0d2f-465d-a46d-1ab34ef16140",
   "metadata": {},
   "outputs": [],
   "source": []
  },
  {
   "cell_type": "code",
   "execution_count": null,
   "id": "31fdd0ec-7ad9-4112-abea-ce44067df3a0",
   "metadata": {},
   "outputs": [],
   "source": []
  },
  {
   "cell_type": "code",
   "execution_count": null,
   "id": "6638dd44-bdd3-4b60-a7dc-2a8d367de932",
   "metadata": {},
   "outputs": [],
   "source": []
  },
  {
   "cell_type": "code",
   "execution_count": null,
   "id": "0141adcd-cdd4-4f23-b0de-9192c8324f0f",
   "metadata": {},
   "outputs": [],
   "source": []
  },
  {
   "cell_type": "code",
   "execution_count": null,
   "id": "897c7133-11e1-4f56-98bb-1eae021fae02",
   "metadata": {},
   "outputs": [],
   "source": []
  }
 ],
 "metadata": {
  "kernelspec": {
   "display_name": "Python 3 (ipykernel)",
   "language": "python",
   "name": "python3"
  },
  "language_info": {
   "codemirror_mode": {
    "name": "ipython",
    "version": 3
   },
   "file_extension": ".py",
   "mimetype": "text/x-python",
   "name": "python",
   "nbconvert_exporter": "python",
   "pygments_lexer": "ipython3",
   "version": "3.10.8"
  }
 },
 "nbformat": 4,
 "nbformat_minor": 5
}
